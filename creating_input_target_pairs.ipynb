{
 "cells": [
  {
   "cell_type": "code",
   "execution_count": 1,
   "metadata": {},
   "outputs": [],
   "source": [
    "#import the data and read it into a variable avaliable in the workspace\n",
    "with open(\"the-verdict.txt\", \"r\", encoding=\"utf-8\") as f:\n",
    "    raw_text = f.read()"
   ]
  },
  {
   "cell_type": "code",
   "execution_count": 2,
   "metadata": {},
   "outputs": [],
   "source": [
    "#import the tokenizer and encode the raw text\n",
    "import tiktoken\n",
    "\n",
    "#instatiate the tokenizer\n",
    "tokenizer = tiktoken.get_encoding(\"gpt2\")"
   ]
  },
  {
   "cell_type": "code",
   "execution_count": 3,
   "metadata": {},
   "outputs": [
    {
     "name": "stdout",
     "output_type": "stream",
     "text": [
      "5145\n"
     ]
    }
   ],
   "source": [
    "#encode the raw text\n",
    "encoded_text = tokenizer.encode(raw_text)\n",
    "\n",
    "#print the length of the encoded text\n",
    "print(len(encoded_text))"
   ]
  },
  {
   "cell_type": "code",
   "execution_count": 6,
   "metadata": {},
   "outputs": [
    {
     "name": "stdout",
     "output_type": "stream",
     "text": [
      "50\n"
     ]
    }
   ],
   "source": [
    "#remove the first 50 tokes from the data\n",
    "encoded_sample = encoded_text[:50]\n",
    "print(len(encoded_sample))"
   ]
  },
  {
   "cell_type": "code",
   "execution_count": null,
   "metadata": {},
   "outputs": [
    {
     "name": "stdout",
     "output_type": "stream",
     "text": [
      "x: [40, 367, 2885, 1464]\n",
      "y: [367, 2885, 1464, 1807]\n"
     ]
    }
   ],
   "source": [
    "#using the context size of 4 ie the length of input the model is designed to focus on at a time\n",
    "context_size = 4\n",
    "#this imples that the input x is the first four tokens [1,2,3,4] and the output y [2,3,4,5] is the nnext four tokens\n",
    "x = encoded_sample[:context_size]\n",
    "y = encoded_sample[1:context_size+1]\n",
    "\n",
    "print(f\"x: {x}\")\n",
    "print(f\"y:  {y}\")"
   ]
  },
  {
   "cell_type": "code",
   "execution_count": 9,
   "metadata": {},
   "outputs": [
    {
     "name": "stdout",
     "output_type": "stream",
     "text": [
      "[40] -----> 367\n",
      "[40, 367] -----> 2885\n",
      "[40, 367, 2885] -----> 1464\n",
      "[40, 367, 2885, 1464] -----> 1807\n"
     ]
    }
   ],
   "source": [
    "#generating the input target struture that allows next word prediction\n",
    "for i in range(1, context_size+1):\n",
    "    context = encoded_sample[:i] #input text\n",
    "    desired = encoded_sample[i] #target text\n",
    "\n",
    "    print(context, \"----->\", desired)"
   ]
  },
  {
   "cell_type": "code",
   "execution_count": 11,
   "metadata": {},
   "outputs": [
    {
     "name": "stdout",
     "output_type": "stream",
     "text": [
      "I ----->  H\n",
      "I H -----> AD\n",
      "I HAD ----->  always\n",
      "I HAD always ----->  thought\n"
     ]
    }
   ],
   "source": [
    "#generating the input target struture that allows next word prediction\n",
    "for i in range(1, context_size+1):\n",
    "    context = encoded_sample[:i] #input text\n",
    "    desired = encoded_sample[i] #target text\n",
    "    #printing the decoded output\n",
    "    print(tokenizer.decode(context), \"----->\", tokenizer.decode([desired]))"
   ]
  },
  {
   "cell_type": "markdown",
   "metadata": {},
   "source": [
    "Implementing a Data Loader"
   ]
  },
  {
   "cell_type": "code",
   "execution_count": null,
   "metadata": {},
   "outputs": [],
   "source": [
    "#creating the input-target tensors using data loaders\n",
    "#import Dataset and Data Loaders\n",
    "import torch\n",
    "from torch.utils.data import Dataset, DataLoader\n",
    "\n",
    "\n",
    "class GPTDatasetV1(Dataset):\n",
    "\n",
    "    #initialization function\n",
    "    def __init__(self, txt, tokenizer, max_length, stride): #max length is the conntext size\n",
    "        self.input_ids = []\n",
    "        self.target_ids = []\n",
    "\n",
    "        #tokenize the entrie text\n",
    "        token_ids = tokenizer.encode(txt, allowed_special={\"<|endoftext|>\"})\n",
    "\n",
    "        #use a slidding window to chunk the book into overlapping sequences of max_length\n",
    "        for i in range(0, len(token_ids) - max_length, stride): #stride is the step, the context size is subtracted because we ddon't want to loop more than the length of the data.\n",
    "            input_chunk = token_ids[i:i+max_length]\n",
    "            target_chunk = token_ids[i+1 : i + max_length+1]\n",
    "            self.input_ids.append(torch.tensor(input_chunk)) #convert the token ids to tensors and append it to the inpu_ids\n",
    "            self.target_ids.append(torch.tensor(target_chunk)) #convert the target token ids to tensors and append it to the target ids\n",
    "\n",
    "    def __len__(self): #this function gets the length of the input token ids\n",
    "        return len(self.input_ids)\n",
    "    \n",
    "    def __getitem__(self, idx):#it returns the input and target row based on the index provided\n",
    "        return self.input_ids[idx], self.target_ids[idx]"
   ]
  },
  {
   "cell_type": "markdown",
   "metadata": {},
   "source": [
    "The GPTDatasetV1 class is based on PyTorch Dataset class. <br> It describes how individual rows are fetched from the dataset <br> Each row consists of token IDs based n the context size(max length) assigned to an input chunk tensor. <br> The target chunk tendor contains the corresponding targets."
   ]
  },
  {
   "cell_type": "code",
   "execution_count": 14,
   "metadata": {},
   "outputs": [],
   "source": [
    "#data loader function\n",
    "def create_dataloader_v1(txt, batch_size=4, max_length=256,  #when drop last is true it drops the last batch if the size is smaller than the specified length\n",
    "                         stride=128, shuffle=True, drop_last=True, #batch size the the number of CPU processors we intend to run parallely\n",
    "                         num_workers=0): #stride is like the step, the amount to skip before the next batch, num_workers is the number of CPU heads that can be run simultaneously\n",
    "    #initiatize the tokenizer\n",
    "    tokenizer = tiktoken.get_encoding('gpt2')\n",
    "\n",
    "    #create the dataset\n",
    "    dataset = GPTDatasetV1(txt, tokenizer, max_length, stride)\n",
    "\n",
    "    #create the dataloader\n",
    "    dataloader = DataLoader(\n",
    "        dataset,\n",
    "        batch_size=batch_size,\n",
    "        shuffle=shuffle,\n",
    "        drop_last=drop_last,\n",
    "        num_workers=num_workers\n",
    "    )\n",
    "\n",
    "    return dataloader"
   ]
  },
  {
   "cell_type": "code",
   "execution_count": null,
   "metadata": {},
   "outputs": [
    {
     "name": "stdout",
     "output_type": "stream",
     "text": [
      "[tensor([[  40,  367, 2885, 1464]]), tensor([[ 367, 2885, 1464, 1807]])]\n"
     ]
    }
   ],
   "source": [
    "#create the data loader but with different parameters\n",
    "dataloader = create_dataloader_v1(\n",
    "    raw_text, batch_size=1, max_length=4, stride=1, shuffle=False #move stride means lesser computation becaue we move over the data faster.\n",
    ")\n",
    "\n",
    "#create an iterator for the data loader\n",
    "data_iter = iter(dataloader)\n",
    "first_batch = next(data_iter)\n",
    "print(first_batch) #produces the input tensor and the output tensor"
   ]
  },
  {
   "cell_type": "markdown",
   "metadata": {},
   "source": [
    "The context size of 4 is typically small but tLLMs are typically trained with the context size fo 256"
   ]
  },
  {
   "cell_type": "code",
   "execution_count": 16,
   "metadata": {},
   "outputs": [
    {
     "name": "stdout",
     "output_type": "stream",
     "text": [
      "[tensor([[ 367, 2885, 1464, 1807]]), tensor([[2885, 1464, 1807, 3619]])]\n"
     ]
    }
   ],
   "source": [
    "second_batch = next(data_iter)\n",
    "print(second_batch)"
   ]
  },
  {
   "cell_type": "code",
   "execution_count": null,
   "metadata": {},
   "outputs": [],
   "source": []
  }
 ],
 "metadata": {
  "kernelspec": {
   "display_name": "Python 3",
   "language": "python",
   "name": "python3"
  },
  "language_info": {
   "codemirror_mode": {
    "name": "ipython",
    "version": 3
   },
   "file_extension": ".py",
   "mimetype": "text/x-python",
   "name": "python",
   "nbconvert_exporter": "python",
   "pygments_lexer": "ipython3",
   "version": "3.12.1"
  }
 },
 "nbformat": 4,
 "nbformat_minor": 2
}
