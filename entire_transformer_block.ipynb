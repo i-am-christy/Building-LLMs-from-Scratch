{
 "cells": [
  {
   "cell_type": "code",
   "execution_count": 1,
   "metadata": {},
   "outputs": [],
   "source": [
    "import torch\n",
    "import torch.nn as nn"
   ]
  },
  {
   "cell_type": "markdown",
   "metadata": {},
   "source": [
    "Coding the Entire transformer block"
   ]
  },
  {
   "cell_type": "code",
   "execution_count": 2,
   "metadata": {},
   "outputs": [],
   "source": [
    "GPT_CONFIG_124M ={\n",
    "    \"vocab_size\": 50257, #vocabulary size\n",
    "    \"context_length\": 1024, #context length, max no of input tokens allowed to predict the next token\n",
    "    \"emb_dim\": 768, #embedding dimmension\n",
    "    \"n_heads\": 12, #number of attention heads\n",
    "    \"n_layers\": 12, #number of tranformer layers\n",
    "    \"drop_rate\": 0.1, #Dropout rate\n",
    "    \"qkv_bias\": False #Query-Key-Value bias\n",
    "} #GPT 2 configuration"
   ]
  },
  {
   "cell_type": "code",
   "execution_count": 14,
   "metadata": {},
   "outputs": [],
   "source": [
    "class MultiHeadAttention(nn.Module):\n",
    "    def __init__(self, d_in, d_out, context_length, dropout, num_heads, qkv_bias=False):\n",
    "        super().__init__()\n",
    "        assert (d_out % num_heads == 0),  \"d_out must be divisible by num_heads\" #checks if the out put dim is divisible by the no of heads because each head needs an equal share of dimensions\n",
    "\n",
    "        self.d_out = d_out\n",
    "        self.num_heads = num_heads #number of attention heads\n",
    "        self.head_dim = d_out // num_heads #reduce the projection dim to match the required output dim\n",
    "\n",
    "        #initializing the trainable weights for key , value and query \n",
    "        self.W_query = nn.Linear(d_in, d_out, bias=qkv_bias)\n",
    "        self.W_key = nn.Linear(d_in, d_out, bias=qkv_bias)\n",
    "        self.W_value = nn.Linear(d_in, d_out, bias=qkv_bias)\n",
    "\n",
    "        #this combines the output from all the heads inot a singe vector\n",
    "        self.out_proj = nn.Linear(self.d_out, self.d_out) #linear layer to combine head outputs\n",
    "        #adds regukarization to prevent lazy neurons during training\n",
    "        self.dropout = nn.Dropout(dropout)\n",
    "        #creates a causual mask from CAM to ensure that only the previous tokens are used for modeling\n",
    "        self.register_buffer(\n",
    "            'mask', torch.triu(torch.ones(context_length, context_length), diagonal=1)\n",
    "        )\n",
    "\n",
    "    #this method defines how the module processes inputs\n",
    "    def forward(self, x):\n",
    "        #x is the input tensor with the shape batch_size, n_tokens and input dim\n",
    "        b, num_token, d_in = x.shape\n",
    "\n",
    "        #generating the key, query and vallues matrices\n",
    "        keys = self.W_key(x) #shape: b, num_tokens, d_out\n",
    "        queries = self.W_query(x)\n",
    "        values = self.W_value(x)\n",
    "\n",
    "        #we implicitly split the matrix by adding a num-heads dimeneion\n",
    "        #unroll last die: (b, num_tokens, d_out) -> (b, num_tokens, num_heads, head_dim)\n",
    "        #ie, split the d_out column into two extra columns and add it to the trainable weights.\n",
    "        keys = keys.view(b, num_token, self.num_heads, self.head_dim)\n",
    "        values = values.view(b, num_token, self.num_heads, self.head_dim)\n",
    "        queries = queries.view(b, num_token, self.num_heads, self.head_dim)\n",
    "\n",
    "        #Transpose: (b, num_tokens, num_heads, heads_dim) -> (b, num_heads, num_tokens, head_dim)\n",
    "        #group matrices by num_heads inteasd of num_tokens\n",
    "        #rearramge the dim so that num heads come before num_tokens for head wise opertions\n",
    "        keys = keys.transpose(1, 2)\n",
    "        values = values.transpose(1, 2)\n",
    "        queries = queries.transpose(1, 2)\n",
    "\n",
    "        #compute scaled dot-product attention (aka self-attention) with a casual mask\n",
    "        #that is, find the attention scores\n",
    "        attn_scores = queries @ keys.transpose(2, 3) #dot product for each head\n",
    "\n",
    "        #original mask truncated to the number of tokens and converted to boolean\n",
    "        mask_bool = self.mask[:num_token, :num_token].bool()\n",
    "\n",
    "        #use the mask trucated to the number of tokens and converted to boolean\n",
    "        attn_scores.masked_fill_(mask_bool, -torch.inf) #apply casual mask by setting certain positions to -infinity\n",
    "\n",
    "        attn_weights = torch.softmax(attn_scores / (keys.shape[-1]**0.5), dim=-1) #converts the scores into probabilities\n",
    "        attn_weights = self.dropout(attn_weights) #randomly zeros out some weights to prevent overfitting\n",
    "\n",
    "        context_vector = (attn_weights @ values).transpose(1, 2)\n",
    "\n",
    "        #combine heads, where self.d_out = self.num_heads + self.head_dim\n",
    "        context_vector = context_vector.contiguous().view(b, num_token, self.d_out)#flatten\n",
    "        context_vector = self.out_proj(context_vector) #combines all heads into one final output\n",
    "\n",
    "        return context_vector\n"
   ]
  },
  {
   "cell_type": "markdown",
   "metadata": {},
   "source": [
    "THE BUILDING BLOCKS: LAYER NORM, GELU AND FEED FOWARD NEURAL NETWORK"
   ]
  },
  {
   "cell_type": "code",
   "execution_count": 11,
   "metadata": {},
   "outputs": [],
   "source": [
    "class LayerNorm(nn.Module): #setting the LayerNormalization class as a subclass of the nn.Module module\n",
    "    def __init__(self, emb_dim): #defines the input for the Layer Normalization class, 'dimension of the emdedding_vector'\n",
    "        super().__init__()\n",
    "        self.eps = 1e-5 #a small variable epislum to prevent division by zero during normalization\n",
    "        self.scale = nn.Parameter(torch.ones(emb_dim)) #trainable parameters learnt during the training process\n",
    "        self.shift = nn.Parameter(torch.zeros(emb_dim)) #trainable parameters learnt during the training process\n",
    "\n",
    "    def forward(self, x):\n",
    "        mean = x.mean(dim=-1, keepdim=True) #normalize each row, across the columns\n",
    "        var = x.var(dim=-1, keepdim=True, unbiased=False)\n",
    "        norm_x = (x - mean) / torch.sqrt(var + self.eps)\n",
    "        return self.scale * norm_x + self.shift\n",
    "\n",
    "# Implementing the GELU activation function\n",
    "class GELU(nn.Module):\n",
    "    def __init__(self):\n",
    "        super().__init__()\n",
    "\n",
    "    def forward(self, x):\n",
    "        return 0.5 * x * (1 + torch.tanh(\n",
    "            torch.sqrt(torch.tensor(2.0 / torch.pi, dtype=x.dtype, device=x.device)) *\n",
    "            (x + 0.044715 * torch.pow(x, 3))\n",
    "        ))\n",
    "    \n",
    "# Implementing the FeedForward Module of the transformer architecture\n",
    "class FeedForward(nn.Module):\n",
    "    def __init__(self, cfg):\n",
    "        super().__init__()\n",
    "        self.layers = nn.Sequential(\n",
    "            nn.Linear(cfg[\"emb_dim\"], 4 * cfg[\"emb_dim\"]),  # Expansion\n",
    "            GELU(),  # Activation\n",
    "            nn.Linear(4 * cfg[\"emb_dim\"], cfg[\"emb_dim\"]),  # Contraction\n",
    "        )\n",
    "\n",
    "    def forward(self, x):\n",
    "        return self.layers(x)"
   ]
  },
  {
   "cell_type": "code",
   "execution_count": 12,
   "metadata": {},
   "outputs": [],
   "source": [
    "#coding the transformer block\n",
    "class TransformerBlock(nn.Module):\n",
    "    def __init__(self, cfg):\n",
    "        super().__init__()\n",
    "        self.attn = MultiHeadAttention( #creates an instance of the attention class, where embedding vectors are converted to context vectors and the shape of the matruxis withheld\n",
    "            d_in = cfg['emb_dim'],\n",
    "            d_out = cfg['emb_dim'],\n",
    "            context_length = cfg['context_length'],\n",
    "            num_heads = cfg['n_heads'],\n",
    "            dropout = cfg['drop_rate'],\n",
    "            qkv_bias = cfg['qkv_bias']\n",
    "        )\n",
    "        self.ff = FeedForward(cfg)\n",
    "        self.norm1 = LayerNorm(cfg['emb_dim'])\n",
    "        self.norm2 = LayerNorm(cfg['emb_dim'])\n",
    "        self.drop_shortcut = nn.Dropout(cfg['drop_rate'])\n",
    "\n",
    "        \n",
    "    def forward(self, x):\n",
    "        #shortcut connection for attention block\n",
    "        shortcut = x\n",
    "        x = self.norm1(x)\n",
    "        x = self.attn(x) #shape [batch_szie, num_tokens, emd_sizee]\n",
    "        x = self.drop_shortcut(x)\n",
    "        x += shortcut #add the original input back\n",
    "\n",
    "        #shortcut connection for feed forward block\n",
    "        shortcut = x\n",
    "        x = self.norm2(x)\n",
    "        x = self.ff(x)\n",
    "        x = self.drop_shortcut(x)\n",
    "        x += shortcut #add the original input back\n",
    "\n",
    "        return x #returns the modieied input which is the same dim as the input of the model\n"
   ]
  },
  {
   "cell_type": "code",
   "execution_count": 13,
   "metadata": {},
   "outputs": [
    {
     "name": "stdout",
     "output_type": "stream",
     "text": [
      "Input shape:  torch.Size([2, 4, 768])\n",
      "Output shape:  torch.Size([2, 4, 768])\n"
     ]
    }
   ],
   "source": [
    "#testing the transformer block\n",
    "torch.manual_seed(123)\n",
    "x = torch.rand(2, 4, 768) #specifying the dim of the input vector\n",
    "block = TransformerBlock(GPT_CONFIG_124M)\n",
    "output = block(x)\n",
    "print(\"Input shape: \", x.shape)\n",
    "print(\"Output shape: \", output.shape)"
   ]
  },
  {
   "cell_type": "code",
   "execution_count": null,
   "metadata": {},
   "outputs": [],
   "source": []
  }
 ],
 "metadata": {
  "kernelspec": {
   "display_name": "Python 3",
   "language": "python",
   "name": "python3"
  },
  "language_info": {
   "codemirror_mode": {
    "name": "ipython",
    "version": 3
   },
   "file_extension": ".py",
   "mimetype": "text/x-python",
   "name": "python",
   "nbconvert_exporter": "python",
   "pygments_lexer": "ipython3",
   "version": "3.12.1"
  }
 },
 "nbformat": 4,
 "nbformat_minor": 2
}
