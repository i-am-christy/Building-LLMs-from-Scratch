{
 "cells": [
  {
   "cell_type": "code",
   "execution_count": 3,
   "metadata": {},
   "outputs": [],
   "source": [
    "import torch\n",
    "import torch.nn as nn"
   ]
  },
  {
   "cell_type": "markdown",
   "metadata": {},
   "source": [
    "<h3>Implementing Multi-head attention</h3>\n",
    "This is achieved by creating multiple instances of self-attention mechanism each with their own weights and combining the outputs.<br>\n",
    "To implement this, we will create a MultiHeadAttentionWrapper class that stacks multiple instances of the previous CasualAttention module"
   ]
  },
  {
   "cell_type": "code",
   "execution_count": 4,
   "metadata": {},
   "outputs": [],
   "source": [
    "class CasualAttention(nn.Module):\n",
    "\n",
    "    def __init__(self, d_in, d_out, context_length, dropout, qkv_bias=False):\n",
    "        super().__init__()\n",
    "        self.d_out = d_out\n",
    "        self.W_query = nn.Linear(d_in, d_out, bias=qkv_bias)\n",
    "        self.W_key = nn.Linear(d_in, d_out, bias=qkv_bias)\n",
    "        self.W_value = nn.Linear(d_in, d_out, bias=qkv_bias)\n",
    "        self.dropout = nn.Dropout(dropout)\n",
    "        self.register_buffer('mask', torch.triu(torch.ones(context_length, context_length), diagonal=1))\n",
    "\n",
    "    def forward(self, x):\n",
    "        b, num_tokens, d_in = x.shape #dimension of the new batch\n",
    "        keys = self.W_key(x)\n",
    "        queries = self.W_query(x)\n",
    "        values = self.W_value(x)\n",
    "\n",
    "        attn_scores = queries @ keys.transpose(1, 2) #tranposing only the inner dimension leaving the outer dimension as it is\n",
    "        attn_scores.masked_fill_(\n",
    "            self.mask.bool()[:num_tokens, :num_tokens], -torch.inf) # no of tokens to account for\n",
    "        attn_weights= torch.softmax(\n",
    "            attn_scores / keys.shape[-1] ** 0.5, dim=-1\n",
    "        )\n",
    "        attn_weights = self.dropout(attn_weights)\n",
    "\n",
    "        context_vector = attn_weights @ values\n",
    "\n",
    "        return context_vector\n"
   ]
  },
  {
   "cell_type": "code",
   "execution_count": 5,
   "metadata": {},
   "outputs": [],
   "source": [
    "class MultiHeadAttentionWrapper(nn.Module):\n",
    "\n",
    "    def __init__(self, d_in, d_out, context_length, dropout, num_heads, qkv_bias=False):\n",
    "        super().__init__()\n",
    "        self.heads = nn.ModuleList(\n",
    "            [CasualAttention(d_in, d_out, context_length, dropout, qkv_bias)\n",
    "             for _ in range(num_heads)] #get the num_heads outputs from the casual attention mechanism\n",
    "        )\n",
    "\n",
    "    def forward(self, x):\n",
    "        return torch.cat([head(x) for head in self.heads], dim=-1) #this concatenates the output from the casual attention, dimension is -1 because we are concatenating along the column\n",
    "    "
   ]
  },
  {
   "cell_type": "code",
   "execution_count": 8,
   "metadata": {},
   "outputs": [
    {
     "data": {
      "text/plain": [
       "torch.Size([6, 3])"
      ]
     },
     "execution_count": 8,
     "metadata": {},
     "output_type": "execute_result"
    }
   ],
   "source": [
    "#getting the vectors for the input sequence\n",
    "inputs =  torch.tensor(\n",
    "    [\n",
    "        [0.43, 0.15, 0.89], #Your x1\n",
    "        [0.55, 0.87, 0.66], #journey x2\n",
    "        [0.57, 0.85, 0.64], #starts x3\n",
    "        [0.22, 0.58, 0.33], #with x4\n",
    "        [0.77, 0.25, 0.10], #one  x5\n",
    "        [0.05, 0.80, 0.55]  #step x6\n",
    "    ]\n",
    ")\n",
    "inputs.shape"
   ]
  },
  {
   "cell_type": "code",
   "execution_count": 9,
   "metadata": {},
   "outputs": [
    {
     "name": "stdout",
     "output_type": "stream",
     "text": [
      "torch.Size([2, 6, 3])\n",
      "tensor([[[0.4300, 0.1500, 0.8900],\n",
      "         [0.5500, 0.8700, 0.6600],\n",
      "         [0.5700, 0.8500, 0.6400],\n",
      "         [0.2200, 0.5800, 0.3300],\n",
      "         [0.7700, 0.2500, 0.1000],\n",
      "         [0.0500, 0.8000, 0.5500]],\n",
      "\n",
      "        [[0.4300, 0.1500, 0.8900],\n",
      "         [0.5500, 0.8700, 0.6600],\n",
      "         [0.5700, 0.8500, 0.6400],\n",
      "         [0.2200, 0.5800, 0.3300],\n",
      "         [0.7700, 0.2500, 0.1000],\n",
      "         [0.0500, 0.8000, 0.5500]]])\n"
     ]
    }
   ],
   "source": [
    "#creating the batch with two inputs\n",
    "batch = torch.stack((inputs, inputs), dim=0)\n",
    "print(batch.shape)\n",
    "print(batch)"
   ]
  },
  {
   "cell_type": "code",
   "execution_count": 10,
   "metadata": {},
   "outputs": [
    {
     "name": "stdout",
     "output_type": "stream",
     "text": [
      "tensor([[[-0.4519,  0.2216,  0.4772,  0.1063],\n",
      "         [-0.5874,  0.0058,  0.5891,  0.3257],\n",
      "         [-0.6300, -0.0632,  0.6202,  0.3860],\n",
      "         [-0.5675, -0.0843,  0.5478,  0.3589],\n",
      "         [-0.5526, -0.0981,  0.5321,  0.3428],\n",
      "         [-0.5299, -0.1081,  0.5077,  0.3493]],\n",
      "\n",
      "        [[-0.4519,  0.2216,  0.4772,  0.1063],\n",
      "         [-0.5874,  0.0058,  0.5891,  0.3257],\n",
      "         [-0.6300, -0.0632,  0.6202,  0.3860],\n",
      "         [-0.5675, -0.0843,  0.5478,  0.3589],\n",
      "         [-0.5526, -0.0981,  0.5321,  0.3428],\n",
      "         [-0.5299, -0.1081,  0.5077,  0.3493]]], grad_fn=<CatBackward0>)\n",
      "Context vectors.shape: torch.Size([2, 6, 4]) \n"
     ]
    }
   ],
   "source": [
    "torch.manual_seed(123)\n",
    "context_length = batch.shape[1] #number of tokens\n",
    "d_in, d_out = 3, 2\n",
    "mha = MultiHeadAttentionWrapper(d_in, d_out, context_length, 0.0, num_heads=2)\n",
    "context_vectors = mha(batch)\n",
    "print(context_vectors)\n",
    "print(f\"Context vectors.shape: {context_vectors.shape} \")"
   ]
  },
  {
   "cell_type": "markdown",
   "metadata": {},
   "source": [
    "Implementing multi Head attention with weights splits, this is a more efficeint way to implement the MHA"
   ]
  },
  {
   "cell_type": "code",
   "execution_count": 17,
   "metadata": {},
   "outputs": [],
   "source": [
    "class MultiHeadAttention(nn.Module):\n",
    "    def __init__(self, d_in, d_out, context_length, dropout, num_heads, qkv_bias=False):\n",
    "        super().__init__()\n",
    "        assert (d_out % num_heads == 0),  \"d_out must be divisible by num_heads\"\n",
    "\n",
    "        self.d_out = d_out\n",
    "        self.num_heads = num_heads\n",
    "        self.head_dim = d_out // num_heads #reduce the projection dim to match the required output dim\n",
    "\n",
    "        #initializing the trainable weights for key , value and query \n",
    "        self.W_query = nn.Linear(d_in, d_out, bias=qkv_bias)\n",
    "        self.W_key = nn.Linear(d_in, d_out, bias=qkv_bias)\n",
    "        self.W_value = nn.Linear(d_in, d_out, bias=qkv_bias)\n",
    "        self.out_proj = nn.Linear(self.d_out, self.d_out) #linear layer to combine head outputs\n",
    "        self.dropout = nn.Dropout(dropout)\n",
    "        self.register_buffer(\n",
    "            'mask', torch.triu(torch.ones(context_length, context_length), diagonal=1)\n",
    "        )\n",
    "\n",
    "    def forward(self, x):\n",
    "        b, num_token, d_in = x.shape\n",
    "\n",
    "        #obtaining the key, query and vallues matrices\n",
    "        keys = self.W_key(x) #shape: b, num_tokens, d_out\n",
    "        queries = self.W_query(x)\n",
    "        values = self.W_value(x)\n",
    "\n",
    "        #we implicitly split the matrix by adding a num-heads dimeneion\n",
    "        #unroll last die: (b, num_tokens, d_out) -> (b, num_tokens, num_heads, head_dim)\n",
    "        #ie, split the d_out column into two extra columns and add it to the trainable weights.\n",
    "        keys = keys.view(b, num_token, self.num_heads, self.head_dim)\n",
    "        values = values.view(b, num_token, self.num_heads, self.head_dim)\n",
    "        queries = queries.view(b, num_token, self.num_heads, self.head_dim)\n",
    "\n",
    "        #Transpose: (b, num_tokens, num_heads, heads_dim) -> (b, num_heads, num_tokens, head_dim)\n",
    "        #group matrices by num_heads inteasd of num_tokens\n",
    "        keys = keys.transpose(1, 2)\n",
    "        values = values.transpose(1, 2)\n",
    "        queries = queries.transpose(1, 2)\n",
    "\n",
    "        #compute scaled dot-product attention (aka self-attention) with a casual mask\n",
    "        #that is, find the attention scores\n",
    "        attn_scores = queries @ keys.transpose(2, 3) #dot product for each head\n",
    "\n",
    "        #original mask truncated to the number of tokens and converted to boolean\n",
    "        mask_bool = self.mask[:num_token, :num_token].bool()\n",
    "\n",
    "        #use the mask trucated to the number of tokens and converted to boolean\n",
    "        attn_scores.masked_fill_(mask_bool, -torch.inf)\n",
    "\n",
    "        attn_weights = torch.softmax(attn_scores / (keys.shape[-1]**0.5), dim=-1)\n",
    "        attn_weights = self.dropout(attn_weights)\n",
    "\n",
    "        context_vector = (attn_weights @ values).transpose(1, 2)\n",
    "\n",
    "        #combine heads, where self.d_out = self.num_heads + self.head_dim\n",
    "        context_vector = context_vector.contiguous().view(b, num_token, self.d_out)#flatten\n",
    "        context_vector = self.out_proj(context_vector) #original otimal projection\n",
    "\n",
    "        return context_vector\n"
   ]
  },
  {
   "cell_type": "code",
   "execution_count": 18,
   "metadata": {},
   "outputs": [
    {
     "name": "stdout",
     "output_type": "stream",
     "text": [
      "torch.Size([2, 6, 3])\n",
      "tensor([[[-0.1084,  0.3656, -0.0570,  0.0369,  0.0875,  0.0014],\n",
      "         [-0.0203,  0.3179, -0.0227, -0.0276,  0.1205,  0.0277],\n",
      "         [ 0.0096,  0.3001, -0.0120, -0.0471,  0.1314,  0.0367],\n",
      "         [ 0.0237,  0.2843, -0.0300, -0.0220,  0.1289,  0.0451],\n",
      "         [ 0.0008,  0.2862, -0.0476,  0.0349,  0.1411,  0.0135],\n",
      "         [ 0.0205,  0.2776, -0.0468,  0.0170,  0.1342,  0.0338]],\n",
      "\n",
      "        [[-0.1084,  0.3656, -0.0570,  0.0369,  0.0875,  0.0014],\n",
      "         [-0.0203,  0.3179, -0.0227, -0.0276,  0.1205,  0.0277],\n",
      "         [ 0.0096,  0.3001, -0.0120, -0.0471,  0.1314,  0.0367],\n",
      "         [ 0.0237,  0.2843, -0.0300, -0.0220,  0.1289,  0.0451],\n",
      "         [ 0.0008,  0.2862, -0.0476,  0.0349,  0.1411,  0.0135],\n",
      "         [ 0.0205,  0.2776, -0.0468,  0.0170,  0.1342,  0.0338]]],\n",
      "       grad_fn=<ViewBackward0>)\n",
      "Context vector.shape: torch.Size([2, 6, 6])\n"
     ]
    }
   ],
   "source": [
    "batch = torch.stack((inputs, inputs), dim=0)\n",
    "print(batch.shape)\n",
    "\n",
    "batch_size, context_length, d_in = batch.shape\n",
    "d_out = 6\n",
    "mha = MultiHeadAttention(d_in, d_out, context_length, 0.0, num_heads=2)\n",
    "context_vector = mha(batch)\n",
    "print(context_vector)\n",
    "print(f\"Context vector.shape: {context_vector.shape}\")"
   ]
  },
  {
   "cell_type": "code",
   "execution_count": null,
   "metadata": {},
   "outputs": [],
   "source": []
  }
 ],
 "metadata": {
  "kernelspec": {
   "display_name": "Python 3",
   "language": "python",
   "name": "python3"
  },
  "language_info": {
   "codemirror_mode": {
    "name": "ipython",
    "version": 3
   },
   "file_extension": ".py",
   "mimetype": "text/x-python",
   "name": "python",
   "nbconvert_exporter": "python",
   "pygments_lexer": "ipython3",
   "version": "3.12.1"
  }
 },
 "nbformat": 4,
 "nbformat_minor": 2
}
